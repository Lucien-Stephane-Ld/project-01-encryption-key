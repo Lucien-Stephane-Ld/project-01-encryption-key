{
 "cells": [
  {
   "cell_type": "code",
   "execution_count": 2,
   "id": "42548d83",
   "metadata": {},
   "outputs": [],
   "source": [
    "import random\n",
    "import string\n",
    "import pandas as pd"
   ]
  },
  {
   "cell_type": "code",
   "execution_count": 3,
   "id": "99df58bb",
   "metadata": {},
   "outputs": [
    {
     "name": "stdout",
     "output_type": "stream",
     "text": [
      "Enter a message to encrypt: \n",
      "original message : \n",
      "encrypted message: \n",
      "Enter a message to decrypt: \n",
      "encrypted message: \n",
      "original message : \n"
     ]
    }
   ],
   "source": [
    "chars = \" \" + string.punctuation + string.digits + string.ascii_letters\n",
    "chars = list(chars)\n",
    "key = chars.copy()\n",
    "\n",
    "random.shuffle(key)\n",
    "\n",
    "#ENCRYPT\n",
    "plain_text = input(\"Enter a message to encrypt: \")\n",
    "cipher_text = \"\"\n",
    "\n",
    "for letter in plain_text:\n",
    "    index = chars.index(letter)\n",
    "    cipher_text += key[index]\n",
    "\n",
    "print(f\"original message : {plain_text}\")\n",
    "print(f\"encrypted message: {cipher_text}\")\n",
    "\n",
    "#DECRYPT\n",
    "cipher_text = input(\"Enter a message to decrypt: \")\n",
    "plain_text = \"\"\n",
    "\n",
    "for letter in cipher_text:\n",
    "    index = key.index(letter)\n",
    "    plain_text += chars[index]\n",
    "\n",
    "print(f\"encrypted message: {cipher_text}\")\n",
    "print(f\"original message : {plain_text}\")"
   ]
  },
  {
   "cell_type": "code",
   "execution_count": 14,
   "id": "cd878493",
   "metadata": {
    "scrolled": false
   },
   "outputs": [
    {
     "name": "stdout",
     "output_type": "stream",
     "text": [
      "KEYS LIST=  ['!', '|', '=', '3', ' ', '@', '4', 'W', 'L', 'q', 'r', '/', 'P', 'J', '?', 'A', 'F', 'M', '0', 'D', 'Q', '`', 'e', 'i', 'R', 'l', '\"', '[', '^', '8', 'v', '2', 'T', 'S', 'a', '>', 'G', '*', 'U', '-', 'j', '#', 'p', ':', 'N', 'n', 'b', '1', '5', 'I', '.', 'c', '7', '\\\\', '%', 'h', 'g', 'X', 'x', ';', '(', '<', '_', 'K', ',', ']', 'w', 's', 'V', 'Y', '9', 'O', '{', 'f', 'u', 'E', 'm', 'C', '&', 'Z', 't', '+', 'z', 'H', '6', '$', ')', 'k', '}', '~', \"'\", 'o', 'B', 'y', 'd'] \n",
      "\n",
      "CHAR LIST=  [' ', '!', '\"', '#', '$', '%', '&', \"'\", '(', ')', '*', '+', ',', '-', '.', '/', ':', ';', '<', '=', '>', '?', '@', '[', '\\\\', ']', '^', '_', '`', '{', '|', '}', '~', '0', '1', '2', '3', '4', '5', '6', '7', '8', '9', 'a', 'b', 'c', 'd', 'e', 'f', 'g', 'h', 'i', 'j', 'k', 'l', 'm', 'n', 'o', 'p', 'q', 'r', 's', 't', 'u', 'v', 'w', 'x', 'y', 'z', 'A', 'B', 'C', 'D', 'E', 'F', 'G', 'H', 'I', 'J', 'K', 'L', 'M', 'N', 'O', 'P', 'Q', 'R', 'S', 'T', 'U', 'V', 'W', 'X', 'Y', 'Z']\n"
     ]
    }
   ],
   "source": [
    "chars = \" \" + string.punctuation + string.digits + string.ascii_letters\n",
    "chars = list(chars)\n",
    "values = chars.copy()\n",
    "\n",
    "random.shuffle(values)\n",
    "\n",
    "print(\"KEYS LIST= \",values,'\\n')\n",
    "print( \"CHAR LIST= \", chars)"
   ]
  },
  {
   "cell_type": "code",
   "execution_count": 1,
   "id": "89c8779a",
   "metadata": {},
   "outputs": [
    {
     "name": "stdout",
     "output_type": "stream",
     "text": [
      "Enter a message to encrypt: ········\n",
      "encrypted message: \n"
     ]
    }
   ],
   "source": [
    "import random\n",
    "import string\n",
    "import getpass\n",
    "\n",
    "original_txt = getpass.getpass(\"Enter a message to encrypt: \")\n",
    "cipher_text = \"\"\n",
    "\n",
    "\n",
    "def encrypt():\n",
    "    \n",
    "    global original_txt\n",
    "    global cipher_text\n",
    "    \n",
    "    chars = \" \" + string.punctuation + string.digits + string.ascii_letters\n",
    "    chars = list(chars)\n",
    "    values = chars.copy()\n",
    "\n",
    "    random.shuffle(values)\n",
    "    \n",
    "    for i in original_txt :\n",
    "        index = chars.index(i)\n",
    "        cipher_text += values[index]\n",
    "        \n",
    "    print(f\"encrypted message: {cipher_text}\")\n",
    "              \n",
    "encrypt()\n",
    "\n",
    "\n",
    "# print(f\"original message : {original_txt}\")"
   ]
  },
  {
   "cell_type": "code",
   "execution_count": 6,
   "id": "5908e01f",
   "metadata": {},
   "outputs": [
    {
     "name": "stdout",
     "output_type": "stream",
     "text": [
      "input\n",
      "[nan, nan, nan, nan, nan]\n"
     ]
    }
   ],
   "source": [
    "import pandas as pd\n",
    "A = list(input()) #list we want to replace with a dictionary lookup\n",
    "B = {'A':\"'\",'B':2,'C':3,'D':4} #dictionary lookup, dict values in B will be mapped to entries in A\n",
    "C = (pd.Series(A)).map(B) #convert the list to a pandas series temporarily before mapping\n",
    "D = list(C) # we transform the mapped values (a series object) back to a list\n",
    "# entries in D = [1,2,1,3,4]\n",
    "print(D)\n"
   ]
  },
  {
   "cell_type": "code",
   "execution_count": 18,
   "id": "5f55912b",
   "metadata": {},
   "outputs": [
    {
     "name": "stdout",
     "output_type": "stream",
     "text": [
      "Enter your age:········\n"
     ]
    }
   ],
   "source": [
    "import getpass\n",
    "\n",
    "age = getpass.getpass('Enter your age:')"
   ]
  },
  {
   "cell_type": "code",
   "execution_count": null,
   "id": "9a04e096",
   "metadata": {},
   "outputs": [],
   "source": []
  }
 ],
 "metadata": {
  "kernelspec": {
   "display_name": "Python 3 (ipykernel)",
   "language": "python",
   "name": "python3"
  },
  "language_info": {
   "codemirror_mode": {
    "name": "ipython",
    "version": 3
   },
   "file_extension": ".py",
   "mimetype": "text/x-python",
   "name": "python",
   "nbconvert_exporter": "python",
   "pygments_lexer": "ipython3",
   "version": "3.10.9"
  }
 },
 "nbformat": 4,
 "nbformat_minor": 5
}

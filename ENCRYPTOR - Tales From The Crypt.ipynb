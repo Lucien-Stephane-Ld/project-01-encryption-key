{
 "cells": [
  {
   "cell_type": "markdown",
   "id": "2aca4b00",
   "metadata": {},
   "source": [
    "# ENCRYPTOR"
   ]
  },
  {
   "cell_type": "code",
   "execution_count": 1,
   "id": "832eec9c",
   "metadata": {},
   "outputs": [],
   "source": [
    "import random\n",
    "import string\n",
    "\n",
    "ref_chars = \" \" + string.punctuation + string.digits + string.ascii_letters\n",
    "ref_chars = list(ref_chars)\n",
    "encrypt_values = ref_chars.copy()\n",
    "\n",
    "random.shuffle(encrypt_values)"
   ]
  },
  {
   "cell_type": "code",
   "execution_count": null,
   "id": "109a8569",
   "metadata": {},
   "outputs": [],
   "source": []
  },
  {
   "cell_type": "code",
   "execution_count": 2,
   "id": "d11f6ce6",
   "metadata": {},
   "outputs": [],
   "source": [
    "def select():\n",
    "    select = input(\"Press E to Encrypt or D to Decrypt: \")\n",
    "\n",
    "    while select != 'E' and select != 'e' and select != 'D' and select != 'd':\n",
    "        print('You have entered an incorrect value.','\\n')\n",
    "        select = input(\"Press E to Encrypt or D to Decrypt: \")\n",
    "        \n",
    "    if select == 'E' or select == 'e' :\n",
    "        encrypt()\n",
    "    elif select == 'D' or select == 'd' :\n",
    "        decrypt()\n",
    "        \n",
    "\n",
    "def encrypt():\n",
    "    plain_text = input(\"Enter a message to encrypt: \")\n",
    "    cipher_text = \"\"\n",
    "\n",
    "    for i in plain_text :\n",
    "        if i in ref_chars:\n",
    "            index = ref_chars.index(i)\n",
    "            cipher_text += encrypt_values[index]\n",
    "        else:\n",
    "            raise ValueError('Please recall the function and please be sure that you are using ASCII letters :)')\n",
    "\n",
    "    print(f\"encrypted message: {cipher_text}\")\n",
    "    \n",
    "    \n",
    "def decrypt():\n",
    "    decipher_text = input(\"Enter a message to decrypt: \")\n",
    "    plain_text = \"\"\n",
    "\n",
    "    for i in decipher_text :\n",
    "        if i in encrypt_values:\n",
    "            index = encrypt_values.index(i)\n",
    "            plain_text += ref_chars[index]\n",
    "        else:\n",
    "            raise ValueError('Please recall the function and please be sure that you are using ASCII letters :)')\n",
    "\n",
    "    print(f\"original message : {plain_text}\")\n",
    "    \n"
   ]
  },
  {
   "cell_type": "code",
   "execution_count": null,
   "id": "cdbefad1",
   "metadata": {},
   "outputs": [],
   "source": []
  },
  {
   "cell_type": "code",
   "execution_count": 4,
   "id": "f60c6840",
   "metadata": {},
   "outputs": [
    {
     "name": "stdout",
     "output_type": "stream",
     "text": [
      "Press E to Encrypt or D to Decrypt: e\n",
      "Enter a message to encrypt: ok\n",
      "encrypted message: T8\n",
      "Do you to continue crypting ? Y/Ny\n",
      "Press E to Encrypt or D to Decrypt: e\n",
      "Enter a message to encrypt: ok\n",
      "encrypted message: T8\n"
     ]
    }
   ],
   "source": [
    "select()\n",
    "\n",
    "ending = input('Do you to continue crypting ? Y/N')\n",
    "\n",
    "if ending == 'N' or ending == 'n':\n",
    "    print('Bye')\n",
    "\n",
    "else:\n",
    "    select()\n",
    "          \n",
    "# else:\n",
    "#print('Ok! Bye-bye!')"
   ]
  },
  {
   "cell_type": "code",
   "execution_count": null,
   "id": "dd6d41f1",
   "metadata": {},
   "outputs": [],
   "source": []
  }
 ],
 "metadata": {
  "kernelspec": {
   "display_name": "Python 3 (ipykernel)",
   "language": "python",
   "name": "python3"
  },
  "language_info": {
   "codemirror_mode": {
    "name": "ipython",
    "version": 3
   },
   "file_extension": ".py",
   "mimetype": "text/x-python",
   "name": "python",
   "nbconvert_exporter": "python",
   "pygments_lexer": "ipython3",
   "version": "3.10.9"
  }
 },
 "nbformat": 4,
 "nbformat_minor": 5
}

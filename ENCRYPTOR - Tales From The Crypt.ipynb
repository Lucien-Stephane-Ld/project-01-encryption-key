{
 "cells": [
  {
   "cell_type": "markdown",
   "id": "2aca4b00",
   "metadata": {},
   "source": [
    "# ENCRYPTOR"
   ]
  },
  {
   "cell_type": "code",
   "execution_count": 1,
   "id": "832eec9c",
   "metadata": {},
   "outputs": [],
   "source": [
    "import random\n",
    "import string\n",
    "from getpass import getpass\n",
    "\n",
    "ref_chars = \" \" + string.punctuation + string.digits + string.ascii_letters\n",
    "ref_chars = list(ref_chars)\n",
    "encrypt_values = ref_chars.copy()\n",
    "\n",
    "random.shuffle(encrypt_values)"
   ]
  },
  {
   "cell_type": "code",
   "execution_count": null,
   "id": "109a8569",
   "metadata": {},
   "outputs": [],
   "source": []
  },
  {
   "cell_type": "code",
   "execution_count": 2,
   "id": "d11f6ce6",
   "metadata": {},
   "outputs": [],
   "source": [
    "def startagain():\n",
    "    ending = input('Do you to continue crypting ? Y/N')\n",
    "    \n",
    "    while ending != 'N' and ending != 'n' and ending !='Y' and ending !='y':\n",
    "        print('Please select yes(Y) or no(N)')\n",
    "        ending = input('Do you to continue crypting ? Y/N')\n",
    "             \n",
    "    if ending == 'Y' or ending == 'y':\n",
    "        select()    \n",
    "        \n",
    "    else:\n",
    "        print('Bye') \n",
    "\n",
    "\n",
    "\n",
    "\n",
    "def select():\n",
    "    select = input(\"Press E to Encrypt or D to Decrypt: \")\n",
    "\n",
    "    while select != 'E' and select != 'e' and select != 'D' and select != 'd':\n",
    "        print('You have entered an incorrect value.','\\n')\n",
    "        select = input(\"Press E to Encrypt or D to Decrypt: \")\n",
    "        \n",
    "    if select == 'E' or select == 'e' :\n",
    "        encrypt()\n",
    "    else: # select == 'D' or select == 'd' :\n",
    "        decrypt()\n",
    "        \n",
    "\n",
    "def encrypt():\n",
    "    plain_text = getpass(\"Enter a message to encrypt: \")\n",
    "    cipher_text = \"\"\n",
    "\n",
    "    for i in plain_text :\n",
    "        if i in ref_chars:\n",
    "            index = ref_chars.index(i)\n",
    "            cipher_text += encrypt_values[index]\n",
    "        else:\n",
    "            raise ValueError('Please recall the function and please be sure that you are using ASCII letters :)')\n",
    "\n",
    "    print(f\"encrypted message: {cipher_text}\")\n",
    "    \n",
    "    startagain()\n",
    "    \n",
    "    \n",
    "def decrypt():\n",
    "    decipher_text = input(\"Enter a message to decrypt: \")\n",
    "    plain_text = \"\"\n",
    "\n",
    "    for i in decipher_text :\n",
    "        if i in encrypt_values:\n",
    "            index = encrypt_values.index(i)\n",
    "            plain_text += ref_chars[index]\n",
    "        else:\n",
    "            raise ValueError('Please recall the function and please be sure that you are using ASCII letters :)')\n",
    "\n",
    "    print(f\"original message : {plain_text}\")\n",
    "    \n",
    "    startagain()\n",
    "    "
   ]
  },
  {
   "cell_type": "code",
   "execution_count": null,
   "id": "cdbefad1",
   "metadata": {},
   "outputs": [],
   "source": []
  },
  {
   "cell_type": "code",
   "execution_count": 3,
   "id": "f60c6840",
   "metadata": {},
   "outputs": [],
   "source": [
    "def encryptor():\n",
    "        select()"
   ]
  },
  {
   "cell_type": "code",
   "execution_count": 4,
   "id": "dd6d41f1",
   "metadata": {},
   "outputs": [
    {
     "name": "stdout",
     "output_type": "stream",
     "text": [
      "Press E to Encrypt or D to Decrypt: e\n",
      "Enter a message to encrypt: ········\n",
      "encrypted message: *w[\n",
      "Do you to continue crypting ? Y/Nserd\n",
      "Please select yes(Y) or no(N)\n",
      "Do you to continue crypting ? Y/Nsgd\n",
      "Please select yes(Y) or no(N)\n",
      "Do you to continue crypting ? Y/N\n",
      "Please select yes(Y) or no(N)\n",
      "Do you to continue crypting ? Y/Ny\n",
      "Press E to Encrypt or D to Decrypt: e\n",
      "Enter a message to encrypt: ········\n",
      "encrypted message: 'w*j\n",
      "Do you to continue crypting ? Y/Nergth\n",
      "Please select yes(Y) or no(N)\n",
      "Do you to continue crypting ? Y/Nn\n",
      "Bye\n"
     ]
    }
   ],
   "source": [
    "encryptor()"
   ]
  },
  {
   "cell_type": "code",
   "execution_count": null,
   "id": "51e4f61b",
   "metadata": {},
   "outputs": [],
   "source": []
  }
 ],
 "metadata": {
  "kernelspec": {
   "display_name": "Python 3 (ipykernel)",
   "language": "python",
   "name": "python3"
  },
  "language_info": {
   "codemirror_mode": {
    "name": "ipython",
    "version": 3
   },
   "file_extension": ".py",
   "mimetype": "text/x-python",
   "name": "python",
   "nbconvert_exporter": "python",
   "pygments_lexer": "ipython3",
   "version": "3.10.9"
  }
 },
 "nbformat": 4,
 "nbformat_minor": 5
}

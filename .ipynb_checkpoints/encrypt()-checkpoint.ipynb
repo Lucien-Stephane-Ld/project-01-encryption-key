{
 "cells": [
  {
   "cell_type": "code",
   "execution_count": 5,
   "id": "38d9e676",
   "metadata": {},
   "outputs": [],
   "source": [
    "def encrypt():\n",
    "    \n",
    "    import random\n",
    "    import string\n",
    "    import getpass\n",
    "    \n",
    "    original_txt = getpass.getpass(\"Enter a message to encrypt: \")\n",
    "    cipher_text = \"\"\n",
    "    \n",
    "    original_txt\n",
    "    cipher_text\n",
    "    \n",
    "    chars = \" \" + string.punctuation + string.digits + string.ascii_letters\n",
    "    chars = list(chars)\n",
    "    values = chars.copy()\n",
    "\n",
    "    random.shuffle(values)\n",
    "    \n",
    "    for i in original_txt :\n",
    "        index = chars.index(i)\n",
    "        cipher_text += values[index]\n",
    "        \n",
    "    print(f\"encrypted message: {cipher_text}\")"
   ]
  },
  {
   "cell_type": "code",
   "execution_count": 6,
   "id": "ced464ba",
   "metadata": {},
   "outputs": [
    {
     "name": "stdout",
     "output_type": "stream",
     "text": [
      "Enter a message to encrypt: ········\n",
      "encrypted message: f:bbT\n"
     ]
    }
   ],
   "source": [
    "encrypt()"
   ]
  },
  {
   "cell_type": "code",
   "execution_count": null,
   "id": "aabff365",
   "metadata": {},
   "outputs": [],
   "source": []
  }
 ],
 "metadata": {
  "kernelspec": {
   "display_name": "Python 3 (ipykernel)",
   "language": "python",
   "name": "python3"
  },
  "language_info": {
   "codemirror_mode": {
    "name": "ipython",
    "version": 3
   },
   "file_extension": ".py",
   "mimetype": "text/x-python",
   "name": "python",
   "nbconvert_exporter": "python",
   "pygments_lexer": "ipython3",
   "version": "3.10.9"
  }
 },
 "nbformat": 4,
 "nbformat_minor": 5
}

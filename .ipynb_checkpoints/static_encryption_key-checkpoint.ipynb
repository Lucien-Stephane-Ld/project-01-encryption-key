{
 "cells": [
  {
   "cell_type": "code",
   "execution_count": 10,
   "id": "d7017f8f",
   "metadata": {},
   "outputs": [],
   "source": [
    "import random\n",
    "import string\n",
    "import pandas as pd"
   ]
  },
  {
   "cell_type": "code",
   "execution_count": 22,
   "id": "ab39d689",
   "metadata": {},
   "outputs": [
    {
     "name": "stdout",
     "output_type": "stream",
     "text": [
      "KEYS LIST=  ['W', 'U', '8', ']', 'p', '}', '4', '>', 'X', '+', '(', '7', '<', 'n', '9', 'R', 'v', '/', '^', '[', '6', 'Y', 'u', 'q', 't', '`', 'a', 'i', 'E', '%', 'J', '{', 'd', 'k', ';', '*', ' ', '&', 'C', 'f', 'B', '2', 'Q', 'V', 'c', 'O', 'S', 'y', '\\\\', 'j', '=', '#', 'z', '\"', '$', 'I', '5', 'H', '1', 'm', 'N', 'D', ',', 'h', '0', 'M', '@', 'G', '|', 'Z', 's', 'F', 'r', 'l', '3', 'x', '-', 'w', ')', 'g', '.', '_', 'o', 'P', ':', '~', 'b', 'e', 'T', 'K', '!', 'A', \"'\", 'L', '?'] \n",
      "\n",
      "CHAR LIST=  [' ', '!', '\"', '#', '$', '%', '&', \"'\", '(', ')', '*', '+', ',', '-', '.', '/', ':', ';', '<', '=', '>', '?', '@', '[', '\\\\', ']', '^', '_', '`', '{', '|', '}', '~', '0', '1', '2', '3', '4', '5', '6', '7', '8', '9', 'a', 'b', 'c', 'd', 'e', 'f', 'g', 'h', 'i', 'j', 'k', 'l', 'm', 'n', 'o', 'p', 'q', 'r', 's', 't', 'u', 'v', 'w', 'x', 'y', 'z', 'A', 'B', 'C', 'D', 'E', 'F', 'G', 'H', 'I', 'J', 'K', 'L', 'M', 'N', 'O', 'P', 'Q', 'R', 'S', 'T', 'U', 'V', 'W', 'X', 'Y', 'Z']\n"
     ]
    }
   ],
   "source": [
    "chars = \" \" + string.punctuation + string.digits + string.ascii_letters\n",
    "chars = list(chars)\n",
    "values = chars.copy()\n",
    "\n",
    "values2 = random.shuffle(values)\n",
    "\n",
    "print(\"KEYS LIST= \",values,'\\n')\n",
    "print( \"CHAR LIST= \", chars)"
   ]
  },
  {
   "cell_type": "code",
   "execution_count": 23,
   "id": "4be72ded",
   "metadata": {
    "scrolled": true
   },
   "outputs": [
    {
     "name": "stdout",
     "output_type": "stream",
     "text": [
      "['W', 'U', '8', ']', 'p', '}', '4', '>', 'X', '+', '(', '7', '<', 'n', '9', 'R', 'v', '/', '^', '[', '6', 'Y', 'u', 'q', 't', '`', 'a', 'i', 'E', '%', 'J', '{', 'd', 'k', ';', '*', ' ', '&', 'C', 'f', 'B', '2', 'Q', 'V', 'c', 'O', 'S', 'y', '\\\\', 'j', '=', '#', 'z', '\"', '$', 'I', '5', 'H', '1', 'm', 'N', 'D', ',', 'h', '0', 'M', '@', 'G', '|', 'Z', 's', 'F', 'r', 'l', '3', 'x', '-', 'w', ')', 'g', '.', '_', 'o', 'P', ':', '~', 'b', 'e', 'T', 'K', '!', 'A', \"'\", 'L', '?'] \n",
      "\n",
      "[' ', '!', '\"', '#', '$', '%', '&', \"'\", '(', ')', '*', '+', ',', '-', '.', '/', ':', ';', '<', '=', '>', '?', '@', '[', '\\\\', ']', '^', '_', '`', '{', '|', '}', '~', '0', '1', '2', '3', '4', '5', '6', '7', '8', '9', 'a', 'b', 'c', 'd', 'e', 'f', 'g', 'h', 'i', 'j', 'k', 'l', 'm', 'n', 'o', 'p', 'q', 'r', 's', 't', 'u', 'v', 'w', 'x', 'y', 'z', 'A', 'B', 'C', 'D', 'E', 'F', 'G', 'H', 'I', 'J', 'K', 'L', 'M', 'N', 'O', 'P', 'Q', 'R', 'S', 'T', 'U', 'V', 'W', 'X', 'Y', 'Z']\n"
     ]
    }
   ],
   "source": [
    "encrypt_values = values\n",
    "ref_chars = chars"
   ]
  }
 ],
 "metadata": {
  "kernelspec": {
   "display_name": "Python 3 (ipykernel)",
   "language": "python",
   "name": "python3"
  },
  "language_info": {
   "codemirror_mode": {
    "name": "ipython",
    "version": 3
   },
   "file_extension": ".py",
   "mimetype": "text/x-python",
   "name": "python",
   "nbconvert_exporter": "python",
   "pygments_lexer": "ipython3",
   "version": "3.10.9"
  }
 },
 "nbformat": 4,
 "nbformat_minor": 5
}

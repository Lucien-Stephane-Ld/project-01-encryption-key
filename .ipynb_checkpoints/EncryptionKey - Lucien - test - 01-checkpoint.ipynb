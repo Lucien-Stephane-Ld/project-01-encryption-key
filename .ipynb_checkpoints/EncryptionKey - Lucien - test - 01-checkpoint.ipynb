{
 "cells": [
  {
   "cell_type": "code",
   "execution_count": 37,
   "id": "0403f334",
   "metadata": {},
   "outputs": [],
   "source": [
    "import random\n",
    "import string\n",
    "import pandas as pd"
   ]
  },
  {
   "cell_type": "code",
   "execution_count": 24,
   "id": "2973dc79",
   "metadata": {},
   "outputs": [
    {
     "name": "stdout",
     "output_type": "stream",
     "text": [
      "Enter a message to encrypt: \n",
      "original message : \n",
      "encrypted message: \n",
      "Enter a message to decrypt: \n",
      "encrypted message: \n",
      "original message : \n"
     ]
    }
   ],
   "source": [
    "chars = \" \" + string.punctuation + string.digits + string.ascii_letters\n",
    "chars = list(chars)\n",
    "key = chars.copy()\n",
    "\n",
    "random.shuffle(key)\n",
    "\n",
    "#ENCRYPT\n",
    "plain_text = input(\"Enter a message to encrypt: \")\n",
    "cipher_text = \"\"\n",
    "\n",
    "for letter in plain_text:\n",
    "    index = chars.index(letter)\n",
    "    cipher_text += key[index]\n",
    "\n",
    "print(f\"original message : {plain_text}\")\n",
    "print(f\"encrypted message: {cipher_text}\")\n",
    "\n",
    "#DECRYPT\n",
    "cipher_text = input(\"Enter a message to decrypt: \")\n",
    "plain_text = \"\"\n",
    "\n",
    "for letter in cipher_text:\n",
    "    index = key.index(letter)\n",
    "    plain_text += chars[index]\n",
    "\n",
    "print(f\"encrypted message: {cipher_text}\")\n",
    "print(f\"original message : {plain_text}\")"
   ]
  },
  {
   "cell_type": "code",
   "execution_count": 32,
   "id": "ce58baf8",
   "metadata": {
    "scrolled": false
   },
   "outputs": [
    {
     "name": "stdout",
     "output_type": "stream",
     "text": [
      "KEYS LIST=  ['Z', 'C', '7', 'w', 'V', '!', '?', '-', 'f', ':', 'g', '2', 'r', ',', '4', 'N', 'U', ';', 'T', 'A', '}', 'S', '[', '_', 'R', 'j', '*', 'B', 'M', '<', ')', 'z', '{', 'o', '(', 'Q', 'b', '\\\\', '&', 'e', 'H', 'X', 'd', 'x', 'G', 'u', 'i', '@', 'D', 'q', '`', 'E', '/', 'O', 'p', 'v', 'L', 'k', '3', '$', 'Y', 'y', '~', '1', 'I', '#', 'J', '0', 'F', '\"', '8', ']', 't', 'P', '+', '9', 'm', 'c', 'K', '^', \"'\", '=', '6', 's', '%', '>', 'h', '|', '.', 'l', 'n', '5', ' ', 'W', 'a'] \n",
      "\n",
      "CHAR LIST=  [' ', '!', '\"', '#', '$', '%', '&', \"'\", '(', ')', '*', '+', ',', '-', '.', '/', ':', ';', '<', '=', '>', '?', '@', '[', '\\\\', ']', '^', '_', '`', '{', '|', '}', '~', '0', '1', '2', '3', '4', '5', '6', '7', '8', '9', 'a', 'b', 'c', 'd', 'e', 'f', 'g', 'h', 'i', 'j', 'k', 'l', 'm', 'n', 'o', 'p', 'q', 'r', 's', 't', 'u', 'v', 'w', 'x', 'y', 'z', 'A', 'B', 'C', 'D', 'E', 'F', 'G', 'H', 'I', 'J', 'K', 'L', 'M', 'N', 'O', 'P', 'Q', 'R', 'S', 'T', 'U', 'V', 'W', 'X', 'Y', 'Z']\n"
     ]
    }
   ],
   "source": [
    "chars = \" \" + string.punctuation + string.digits + string.ascii_letters\n",
    "chars = list(chars)\n",
    "values = chars.copy()\n",
    "\n",
    "random.shuffle(values)\n",
    "\n",
    "print(\"KEYS LIST= \",values,'\\n')\n",
    "print( \"CHAR LIST= \", chars)"
   ]
  },
  {
   "cell_type": "code",
   "execution_count": 40,
   "id": "4baf5ee2",
   "metadata": {},
   "outputs": [
    {
     "name": "stdout",
     "output_type": "stream",
     "text": [
      "Enter a message to encrypt: Hello\n",
      "original message : Hello\n",
      "encrypted message: X7@@$\n"
     ]
    }
   ],
   "source": [
    "#ENCRYPT\n",
    "message = input(\"Enter a message to encrypt: \")\n",
    "cipher_text = \"\"\n",
    "\n",
    "for i in message:\n",
    "    index = chars.index(i)\n",
    "    cipher_text += key[index]\n",
    "\n",
    "print(f\"original message : {message}\")\n",
    "print(f\"encrypted message: {cipher_text}\")\n"
   ]
  },
  {
   "cell_type": "code",
   "execution_count": 35,
   "id": "079c8aed",
   "metadata": {},
   "outputs": [
    {
     "name": "stdout",
     "output_type": "stream",
     "text": [
      "{' ': ' ', '!': '!', '\"': '\"', '#': '#', '$': '$', '%': '%', '&': '&', \"'\": \"'\", '(': '(', ')': ')', '*': '*', '+': '+', ',': ',', '-': '-', '.': '.', '/': '/', ':': ':', ';': ';', '<': '<', '=': '=', '>': '>', '?': '?', '@': '@', '[': '[', '\\\\': '\\\\', ']': ']', '^': '^', '_': '_', '`': '`', '{': '{', '|': '|', '}': '}', '~': '~', '0': '0', '1': '1', '2': '2', '3': '3', '4': '4', '5': '5', '6': '6', '7': '7', '8': '8', '9': '9', 'a': 'a', 'b': 'b', 'c': 'c', 'd': 'd', 'e': 'e', 'f': 'f', 'g': 'g', 'h': 'h', 'i': 'i', 'j': 'j', 'k': 'k', 'l': 'l', 'm': 'm', 'n': 'n', 'o': 'o', 'p': 'p', 'q': 'q', 'r': 'r', 's': 's', 't': 't', 'u': 'u', 'v': 'v', 'w': 'w', 'x': 'x', 'y': 'y', 'z': 'z', 'A': 'A', 'B': 'B', 'C': 'C', 'D': 'D', 'E': 'E', 'F': 'F', 'G': 'G', 'H': 'H', 'I': 'I', 'J': 'J', 'K': 'K', 'L': 'L', 'M': 'M', 'N': 'N', 'O': 'O', 'P': 'P', 'Q': 'Q', 'R': 'R', 'S': 'S', 'T': 'T', 'U': 'U', 'V': 'V', 'W': 'W', 'X': 'X', 'Y': 'Y', 'Z': 'Z'}\n"
     ]
    }
   ],
   "source": [
    "dictionary = dict(zip(chars,values))\n",
    "print(KEY)"
   ]
  },
  {
   "cell_type": "code",
   "execution_count": 36,
   "id": "6c1ebcd3",
   "metadata": {},
   "outputs": [
    {
     "name": "stdout",
     "output_type": "stream",
     "text": [
      "Enter message to encrypt: Hello\n",
      "['H', 'e', 'l', 'l', 'o']\n",
      "['H', 'e', 'l', 'l', 'o']\n"
     ]
    }
   ],
   "source": [
    "message = list(input('Enter message to encrypt: '))\n",
    "print(message)\n",
    "\n",
    "\n",
    "A = message #list we want to replace with a dictionary lookup\n",
    "B = dictionary #dictionary lookup, dict values in B will be mapped to entries in A\n",
    "\n",
    "C = (pd.Series(message)).map(KEY) #convert the list to a pandas series temporarily before mapping\n",
    "D = list(C) # we transform the mapped values (a series object) back to a list\n",
    "# entries in D = [1,2,1,3,4]\n",
    "print(D)\n"
   ]
  },
  {
   "cell_type": "code",
   "execution_count": 29,
   "id": "f653c89f",
   "metadata": {},
   "outputs": [
    {
     "name": "stdout",
     "output_type": "stream",
     "text": [
      "[\"'\", 2, \"'\", 3, 4]\n"
     ]
    }
   ],
   "source": [
    "import pandas as pd\n",
    "A = ['A','B','A','C','D'] #list we want to replace with a dictionary lookup\n",
    "B = {'A':\"'\",'B':2,'C':3,'D':4} #dictionary lookup, dict values in B will be mapped to entries in A\n",
    "C = (pd.Series(A)).map(B) #convert the list to a pandas series temporarily before mapping\n",
    "D = list(C) # we transform the mapped values (a series object) back to a list\n",
    "# entries in D = [1,2,1,3,4]\n",
    "print(D)\n"
   ]
  },
  {
   "cell_type": "code",
   "execution_count": null,
   "id": "25f0f6bb",
   "metadata": {},
   "outputs": [],
   "source": []
  }
 ],
 "metadata": {
  "kernelspec": {
   "display_name": "Python 3 (ipykernel)",
   "language": "python",
   "name": "python3"
  },
  "language_info": {
   "codemirror_mode": {
    "name": "ipython",
    "version": 3
   },
   "file_extension": ".py",
   "mimetype": "text/x-python",
   "name": "python",
   "nbconvert_exporter": "python",
   "pygments_lexer": "ipython3",
   "version": "3.10.9"
  }
 },
 "nbformat": 4,
 "nbformat_minor": 5
}

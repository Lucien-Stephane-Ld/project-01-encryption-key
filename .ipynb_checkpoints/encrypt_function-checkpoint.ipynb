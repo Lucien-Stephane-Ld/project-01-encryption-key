{
 "cells": [
  {
   "cell_type": "code",
   "execution_count": 38,
   "id": "11bb51b2",
   "metadata": {},
   "outputs": [],
   "source": [
    "def encrypt():\n",
    "    plain_text = input(\"Enter a message to encrypt: \")\n",
    "    cipher_text = \"\"\n",
    "\n",
    "    for letter in plain_text:\n",
    "        index = ref_chars.index(letter)\n",
    "        cipher_text += encrypt_values[index]\n",
    "\n",
    "    print(f\"encrypted message: {cipher_text}\")"
   ]
  }
 ],
 "metadata": {
  "kernelspec": {
   "display_name": "Python 3 (ipykernel)",
   "language": "python",
   "name": "python3"
  },
  "language_info": {
   "codemirror_mode": {
    "name": "ipython",
    "version": 3
   },
   "file_extension": ".py",
   "mimetype": "text/x-python",
   "name": "python",
   "nbconvert_exporter": "python",
   "pygments_lexer": "ipython3",
   "version": "3.10.9"
  }
 },
 "nbformat": 4,
 "nbformat_minor": 5
}

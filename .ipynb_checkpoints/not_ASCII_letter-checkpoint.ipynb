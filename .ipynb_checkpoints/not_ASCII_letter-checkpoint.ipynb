{
 "cells": [
  {
   "cell_type": "code",
   "execution_count": null,
   "id": "3cd69586",
   "metadata": {},
   "outputs": [],
   "source": [
    "#if the letter is not ASCII letter\n",
    "\n",
    "def encrypt():\n",
    "    \n",
    "    import random\n",
    "    import string\n",
    "    import getpass\n",
    "    \n",
    "    original_txt = getpass.getpass(\"Enter a message to encrypt: \")\n",
    "    cipher_text = \"\"\n",
    "    \n",
    "    original_txt\n",
    "    cipher_text\n",
    "    \n",
    "    chars = \" \" + string.punctuation + string.digits + string.ascii_letters\n",
    "    chars = list(chars)\n",
    "    values = chars.copy()\n",
    "\n",
    "    random.shuffle(values)\n",
    "    \n",
    "    for i in original_txt :\n",
    "        if i in chars:\n",
    "            index = chars.index(i)\n",
    "            cipher_text += values[index]\n",
    "        else:\n",
    "            raise ValueError('Please recall the function and please be sure that you are using ASCII letters :)')\n",
    "        \n",
    "    print(f\"encrypted message: {cipher_text}\")"
   ]
  }
 ],
 "metadata": {
  "kernelspec": {
   "display_name": "Python 3 (ipykernel)",
   "language": "python",
   "name": "python3"
  },
  "language_info": {
   "codemirror_mode": {
    "name": "ipython",
    "version": 3
   },
   "file_extension": ".py",
   "mimetype": "text/x-python",
   "name": "python",
   "nbconvert_exporter": "python",
   "pygments_lexer": "ipython3",
   "version": "3.9.13"
  }
 },
 "nbformat": 4,
 "nbformat_minor": 5
}

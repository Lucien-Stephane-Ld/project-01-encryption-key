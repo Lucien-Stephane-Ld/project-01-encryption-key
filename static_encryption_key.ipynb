{
 "cells": [
  {
   "cell_type": "code",
   "execution_count": 2,
   "id": "d7017f8f",
   "metadata": {},
   "outputs": [],
   "source": [
    "import random\n",
    "import string\n",
    "import pandas as pd"
   ]
  },
  {
   "cell_type": "code",
   "execution_count": 5,
   "id": "ab39d689",
   "metadata": {},
   "outputs": [
    {
     "name": "stdout",
     "output_type": "stream",
     "text": [
      "KEYS LIST=  ['u', 'W', 'V', '(', 'e', 'K', ')', 'A', 'Q', '1', 'l', '>', 'L', 'j', '~', '[', '\"', '@', '=', ']', 'S', '.', 'k', '8', ';', 'R', 'a', ' ', 'f', '<', 'z', 'M', '4', 'b', '/', 'r', 'c', 'i', '^', '#', '7', '\\\\', '!', 'J', '2', 'E', 'O', '&', 's', '$', '*', '5', 'h', 'N', 'B', '}', '_', 'P', 'T', '9', '3', '{', 'q', 'y', '-', 'I', 'n', 'F', 'U', 'H', ':', '0', 'o', '?', '6', 'Z', 'Y', 'd', '`', '%', 'm', 'D', 'v', 'w', 'G', 't', '|', 'x', ',', 'C', 'X', '+', \"'\", 'p', 'g'] \n",
      "\n",
      "CHAR LIST=  [' ', '!', '\"', '#', '$', '%', '&', \"'\", '(', ')', '*', '+', ',', '-', '.', '/', ':', ';', '<', '=', '>', '?', '@', '[', '\\\\', ']', '^', '_', '`', '{', '|', '}', '~', '0', '1', '2', '3', '4', '5', '6', '7', '8', '9', 'a', 'b', 'c', 'd', 'e', 'f', 'g', 'h', 'i', 'j', 'k', 'l', 'm', 'n', 'o', 'p', 'q', 'r', 's', 't', 'u', 'v', 'w', 'x', 'y', 'z', 'A', 'B', 'C', 'D', 'E', 'F', 'G', 'H', 'I', 'J', 'K', 'L', 'M', 'N', 'O', 'P', 'Q', 'R', 'S', 'T', 'U', 'V', 'W', 'X', 'Y', 'Z']\n"
     ]
    }
   ],
   "source": [
    "chars = \" \" + string.punctuation + string.digits + string.ascii_letters\n",
    "chars = list(chars)\n",
    "values = chars.copy()\n",
    "\n",
    "values2 = random.shuffle(values)\n",
    "\n",
    "print(\"KEYS LIST= \",values,'\\n')\n",
    "print( \"CHAR LIST= \", chars)"
   ]
  },
  {
   "cell_type": "code",
   "execution_count": 13,
   "id": "4be72ded",
   "metadata": {},
   "outputs": [],
   "source": [
    "encrypt_values = values\n",
    "ref_chars = chars"
   ]
  }
 ],
 "metadata": {
  "kernelspec": {
   "display_name": "Python 3 (ipykernel)",
   "language": "python",
   "name": "python3"
  },
  "language_info": {
   "codemirror_mode": {
    "name": "ipython",
    "version": 3
   },
   "file_extension": ".py",
   "mimetype": "text/x-python",
   "name": "python",
   "nbconvert_exporter": "python",
   "pygments_lexer": "ipython3",
   "version": "3.10.9"
  }
 },
 "nbformat": 4,
 "nbformat_minor": 5
}

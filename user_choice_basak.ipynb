{
 "cells": [
  {
   "cell_type": "code",
   "execution_count": 23,
   "id": "ebf92718",
   "metadata": {},
   "outputs": [
    {
     "name": "stdout",
     "output_type": "stream",
     "text": [
      "Press E for Encrypt  D for Decrypt: E\n"
     ]
    }
   ],
   "source": [
    "selection = input(\"Press E for Encrypt  D for Decrypt: \")\n",
    "if selection == \"E\":\n",
    "    pass\n",
    "else:\n",
    "    pass\n",
    "       \n",
    "    \n",
    "\n",
    "    "
   ]
  },
  {
   "cell_type": "code",
   "execution_count": null,
   "id": "420d621f",
   "metadata": {},
   "outputs": [],
   "source": []
  }
 ],
 "metadata": {
  "kernelspec": {
   "display_name": "Python 3 (ipykernel)",
   "language": "python",
   "name": "python3"
  },
  "language_info": {
   "codemirror_mode": {
    "name": "ipython",
    "version": 3
   },
   "file_extension": ".py",
   "mimetype": "text/x-python",
   "name": "python",
   "nbconvert_exporter": "python",
   "pygments_lexer": "ipython3",
   "version": "3.9.13"
  }
 },
 "nbformat": 4,
 "nbformat_minor": 5
}

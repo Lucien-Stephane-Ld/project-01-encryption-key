{
 "cells": [
  {
   "cell_type": "code",
   "execution_count": 5,
   "id": "a90cabfa",
   "metadata": {},
   "outputs": [],
   "source": [
    "def decrypt():\n",
    "    decipher_text = input(\"Enter a message to decrypt: \")\n",
    "    plain_text = \"\"\n",
    "\n",
    "    for letter in decipher_text:\n",
    "        index = encrypt_values.index(letter)\n",
    "        plain_text += ref_chars[index]\n",
    "\n",
    "    print(f\"original message : {plain_text}\")"
   ]
  }
 ],
 "metadata": {
  "kernelspec": {
   "display_name": "Python 3 (ipykernel)",
   "language": "python",
   "name": "python3"
  },
  "language_info": {
   "codemirror_mode": {
    "name": "ipython",
    "version": 3
   },
   "file_extension": ".py",
   "mimetype": "text/x-python",
   "name": "python",
   "nbconvert_exporter": "python",
   "pygments_lexer": "ipython3",
   "version": "3.10.9"
  }
 },
 "nbformat": 4,
 "nbformat_minor": 5
}
